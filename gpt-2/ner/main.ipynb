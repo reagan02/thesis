{
 "cells": [
  {
   "cell_type": "markdown",
   "metadata": {},
   "source": [
    "# Import from HuggingFace\n"
   ]
  },
  {
   "cell_type": "code",
   "execution_count": 1,
   "metadata": {},
   "outputs": [
    {
     "name": "stderr",
     "output_type": "stream",
     "text": [
      "Device set to use cuda:0\n"
     ]
    }
   ],
   "source": [
    "# Use a pipeline as a high-level helper\n",
    "from transformers import pipeline\n",
    "\n",
    "pipe = pipeline(\"token-classification\", model=\"yuridrcosta/gpt2-finetuned-ner\")\n"
   ]
  },
  {
   "cell_type": "code",
   "execution_count": 2,
   "metadata": {},
   "outputs": [],
   "source": [
    "# Load model directly\n",
    "from transformers import AutoTokenizer, AutoModelForTokenClassification\n",
    "\n",
    "tokenizer = AutoTokenizer.from_pretrained(\"yuridrcosta/gpt2-finetuned-ner\")\n",
    "model = AutoModelForTokenClassification.from_pretrained(\"yuridrcosta/gpt2-finetuned-ner\")\n"
   ]
  },
  {
   "cell_type": "code",
   "execution_count": 4,
   "metadata": {},
   "outputs": [
    {
     "name": "stdout",
     "output_type": "stream",
     "text": [
      "Requirement already satisfied: transformers in /home/reagan/pytorch_env/pytorch_env/lib/python3.12/site-packages (4.47.0.dev0)\n",
      "Requirement already satisfied: datasets in /home/reagan/pytorch_env/pytorch_env/lib/python3.12/site-packages (3.0.1)\n",
      "Requirement already satisfied: filelock in /home/reagan/pytorch_env/pytorch_env/lib/python3.12/site-packages (from transformers) (3.13.1)\n",
      "Requirement already satisfied: huggingface-hub<1.0,>=0.23.2 in /home/reagan/pytorch_env/pytorch_env/lib/python3.12/site-packages (from transformers) (0.26.0)\n",
      "Requirement already satisfied: numpy>=1.17 in /home/reagan/pytorch_env/pytorch_env/lib/python3.12/site-packages (from transformers) (1.26.3)\n",
      "Requirement already satisfied: packaging>=20.0 in /home/reagan/pytorch_env/pytorch_env/lib/python3.12/site-packages (from transformers) (24.1)\n",
      "Requirement already satisfied: pyyaml>=5.1 in /home/reagan/pytorch_env/pytorch_env/lib/python3.12/site-packages (from transformers) (6.0.2)\n",
      "Requirement already satisfied: regex!=2019.12.17 in /home/reagan/pytorch_env/pytorch_env/lib/python3.12/site-packages (from transformers) (2024.9.11)\n",
      "Requirement already satisfied: requests in /home/reagan/pytorch_env/pytorch_env/lib/python3.12/site-packages (from transformers) (2.32.3)\n",
      "Requirement already satisfied: tokenizers<0.21,>=0.20 in /home/reagan/pytorch_env/pytorch_env/lib/python3.12/site-packages (from transformers) (0.20.1)\n",
      "Requirement already satisfied: safetensors>=0.4.1 in /home/reagan/pytorch_env/pytorch_env/lib/python3.12/site-packages (from transformers) (0.4.5)\n",
      "Requirement already satisfied: tqdm>=4.27 in /home/reagan/pytorch_env/pytorch_env/lib/python3.12/site-packages (from transformers) (4.66.5)\n",
      "Requirement already satisfied: pyarrow>=15.0.0 in /home/reagan/pytorch_env/pytorch_env/lib/python3.12/site-packages (from datasets) (17.0.0)\n",
      "Requirement already satisfied: dill<0.3.9,>=0.3.0 in /home/reagan/pytorch_env/pytorch_env/lib/python3.12/site-packages (from datasets) (0.3.8)\n",
      "Requirement already satisfied: pandas in /home/reagan/pytorch_env/pytorch_env/lib/python3.12/site-packages (from datasets) (2.2.3)\n",
      "Requirement already satisfied: xxhash in /home/reagan/pytorch_env/pytorch_env/lib/python3.12/site-packages (from datasets) (3.5.0)\n",
      "Requirement already satisfied: multiprocess in /home/reagan/pytorch_env/pytorch_env/lib/python3.12/site-packages (from datasets) (0.70.16)\n",
      "Requirement already satisfied: fsspec<=2024.6.1,>=2023.1.0 in /home/reagan/pytorch_env/pytorch_env/lib/python3.12/site-packages (from fsspec[http]<=2024.6.1,>=2023.1.0->datasets) (2024.2.0)\n",
      "Requirement already satisfied: aiohttp in /home/reagan/pytorch_env/pytorch_env/lib/python3.12/site-packages (from datasets) (3.10.10)\n",
      "Requirement already satisfied: aiohappyeyeballs>=2.3.0 in /home/reagan/pytorch_env/pytorch_env/lib/python3.12/site-packages (from aiohttp->datasets) (2.4.3)\n",
      "Requirement already satisfied: aiosignal>=1.1.2 in /home/reagan/pytorch_env/pytorch_env/lib/python3.12/site-packages (from aiohttp->datasets) (1.3.1)\n",
      "Requirement already satisfied: attrs>=17.3.0 in /home/reagan/pytorch_env/pytorch_env/lib/python3.12/site-packages (from aiohttp->datasets) (24.2.0)\n",
      "Requirement already satisfied: frozenlist>=1.1.1 in /home/reagan/pytorch_env/pytorch_env/lib/python3.12/site-packages (from aiohttp->datasets) (1.4.1)\n",
      "Requirement already satisfied: multidict<7.0,>=4.5 in /home/reagan/pytorch_env/pytorch_env/lib/python3.12/site-packages (from aiohttp->datasets) (6.1.0)\n",
      "Requirement already satisfied: yarl<2.0,>=1.12.0 in /home/reagan/pytorch_env/pytorch_env/lib/python3.12/site-packages (from aiohttp->datasets) (1.15.5)\n",
      "Requirement already satisfied: typing-extensions>=3.7.4.3 in /home/reagan/pytorch_env/pytorch_env/lib/python3.12/site-packages (from huggingface-hub<1.0,>=0.23.2->transformers) (4.9.0)\n",
      "Requirement already satisfied: charset-normalizer<4,>=2 in /home/reagan/pytorch_env/pytorch_env/lib/python3.12/site-packages (from requests->transformers) (3.4.0)\n",
      "Requirement already satisfied: idna<4,>=2.5 in /home/reagan/pytorch_env/pytorch_env/lib/python3.12/site-packages (from requests->transformers) (3.10)\n",
      "Requirement already satisfied: urllib3<3,>=1.21.1 in /home/reagan/pytorch_env/pytorch_env/lib/python3.12/site-packages (from requests->transformers) (2.2.3)\n",
      "Requirement already satisfied: certifi>=2017.4.17 in /home/reagan/pytorch_env/pytorch_env/lib/python3.12/site-packages (from requests->transformers) (2024.8.30)\n",
      "Requirement already satisfied: python-dateutil>=2.8.2 in /home/reagan/pytorch_env/pytorch_env/lib/python3.12/site-packages (from pandas->datasets) (2.9.0.post0)\n",
      "Requirement already satisfied: pytz>=2020.1 in /home/reagan/pytorch_env/pytorch_env/lib/python3.12/site-packages (from pandas->datasets) (2024.2)\n",
      "Requirement already satisfied: tzdata>=2022.7 in /home/reagan/pytorch_env/pytorch_env/lib/python3.12/site-packages (from pandas->datasets) (2024.2)\n",
      "Requirement already satisfied: six>=1.5 in /home/reagan/pytorch_env/pytorch_env/lib/python3.12/site-packages (from python-dateutil>=2.8.2->pandas->datasets) (1.16.0)\n",
      "Requirement already satisfied: propcache>=0.2.0 in /home/reagan/pytorch_env/pytorch_env/lib/python3.12/site-packages (from yarl<2.0,>=1.12.0->aiohttp->datasets) (0.2.0)\n",
      "Note: you may need to restart the kernel to use updated packages.\n"
     ]
    }
   ],
   "source": [
    "%pip install transformers datasets\n"
   ]
  },
  {
   "cell_type": "code",
   "execution_count": 7,
   "metadata": {},
   "outputs": [],
   "source": [
    "import random\n",
    "import pandas as pd\n",
    "from sklearn.model_selection import train_test_split\n",
    "from datasets import Dataset\n",
    "\n",
    "def load_data_from_txt(file_path):\n",
    "    sentences = []\n",
    "    labels = []\n",
    "\n",
    "    with open(file_path, 'r') as file:\n",
    "        current_sentence = []\n",
    "        current_labels = []\n",
    "        \n",
    "        for line in file:\n",
    "            line = line.strip()\n",
    "            if line:  # If the line is not empty\n",
    "                parts = line.split()\n",
    "                token = parts[0]\n",
    "                label = parts[-1]  # Assuming the last part is the label\n",
    "                current_sentence.append(token)\n",
    "                current_labels.append(label)\n",
    "            else:  # Blank line indicates the end of a sentence\n",
    "                if current_sentence:  # Only append if there's data\n",
    "                    sentences.append(current_sentence)\n",
    "                    labels.append(current_labels)\n",
    "                    current_sentence = []\n",
    "                    current_labels = []\n",
    "\n",
    "    return sentences, labels\n",
    "\n",
    "def sentences_to_dataframe(sentences, labels):\n",
    "    # Convert to a DataFrame suitable for the Hugging Face Dataset\n",
    "    data = {'tokens': sentences, 'ner_tags': labels}\n",
    "    return pd.DataFrame(data)\n",
    "\n",
    "def preprocess_data(file_path):\n",
    "    sentences, labels = load_data_from_txt(file_path)\n",
    "    df = sentences_to_dataframe(sentences, labels)\n",
    "\n",
    "    # Split the DataFrame into train and validation sets\n",
    "    train_df, valid_df = train_test_split(df, test_size=0.2, random_state=42)\n",
    "\n",
    "    # Convert DataFrames to Hugging Face Dataset format\n",
    "    train_dataset = Dataset.from_pandas(train_df)\n",
    "    valid_dataset = Dataset.from_pandas(valid_df)\n",
    "\n",
    "    return train_dataset, valid_dataset\n",
    "\n",
    "# Load and preprocess data\n",
    "file_path = './ner_conll_format.txt'  # Update with your path\n",
    "train_dataset, valid_dataset = preprocess_data(file_path)\n"
   ]
  },
  {
   "cell_type": "code",
   "execution_count": 8,
   "metadata": {},
   "outputs": [],
   "source": [
    "from transformers import AutoTokenizer, AutoModelForTokenClassification\n",
    "\n",
    "# Define the model name\n",
    "model_name = \"yuridrcosta/gpt2-finetuned-ner\"  # Replace with your selected model\n",
    "tokenizer = AutoTokenizer.from_pretrained(model_name)\n",
    "model = AutoModelForTokenClassification.from_pretrained(model_name)\n"
   ]
  },
  {
   "cell_type": "code",
   "execution_count": 11,
   "metadata": {},
   "outputs": [],
   "source": [
    "def tokenize_and_align_labels(examples):\n",
    "    # Tokenize the input with padding and truncation\n",
    "    tokenized_inputs = tokenizer(examples['tokens'], truncation=True, is_split_into_words=True, padding='max_length', max_length=128)\n",
    "\n",
    "    # Prepare the labels list\n",
    "    labels = []\n",
    "    \n",
    "    for i, label in enumerate(examples['ner_tags']):\n",
    "        word_ids = tokenized_inputs.word_ids(i)\n",
    "        label_ids = [-100] * len(tokenized_inputs['input_ids'][i])  # Default to -100 for padding tokens\n",
    "        \n",
    "        # Align labels with tokenized words\n",
    "        for idx, word_id in enumerate(word_ids):\n",
    "            if word_id is not None:  # Ignore the padding tokens\n",
    "                # Map label directly; if your label is an integer, we leave it as is\n",
    "                label_ids[idx] = label[word_id]\n",
    "\n",
    "        labels.append(label_ids)\n",
    "\n",
    "    # Add labels to tokenized input\n",
    "    tokenized_inputs['labels'] = labels\n",
    "    return tokenized_inputs\n"
   ]
  },
  {
   "cell_type": "code",
   "execution_count": null,
   "metadata": {},
   "outputs": [],
   "source": [
    "from transformers import TrainingArguments, Trainer\n",
    "\n",
    "training_args = TrainingArguments(\n",
    "    output_dir='./results',\n",
    "    evaluation_strategy=\"epoch\",\n",
    "    learning_rate=2e-5,\n",
    "    per_device_train_batch_size=16,\n",
    "    per_device_eval_batch_size=16,\n",
    "    num_train_epochs=3,\n",
    "    weight_decay=0.01,\n",
    ")\n",
    "\n",
    "trainer = Trainer(\n",
    "    model=model,                  # The initialized model\n",
    "    args=training_args,           # Training arguments\n",
    "    train_dataset=train_dataset_tokenized,  # Training dataset\n",
    "    eval_dataset=valid_dataset_tokenized    # Evaluation dataset\n",
    ")\n"
   ]
  },
  {
   "cell_type": "code",
   "execution_count": null,
   "metadata": {},
   "outputs": [],
   "source": [
    "# Start training\n",
    "trainer.train()\n"
   ]
  },
  {
   "cell_type": "code",
   "execution_count": null,
   "metadata": {},
   "outputs": [],
   "source": [
    "# Evaluate the model\n",
    "eval_results = trainer.evaluate()\n",
    "\n",
    "# Print evaluation results\n",
    "print(f\"Evaluation results: {eval_results}\")\n"
   ]
  },
  {
   "cell_type": "code",
   "execution_count": null,
   "metadata": {},
   "outputs": [],
   "source": [
    "def predict(model, tokenizer, text):\n",
    "    # Tokenize the input text\n",
    "    inputs = tokenizer(text.split(), return_tensors=\"pt\", is_split_into_words=True, padding=True, truncation=True)\n",
    "    \n",
    "    # Get predictions\n",
    "    outputs = model(**inputs)\n",
    "    logits = outputs.logits\n",
    "    predictions = logits.argmax(dim=2)  # Get predicted class indices\n",
    "\n",
    "    # Convert predictions to labels\n",
    "    label_map = {i: label for i, label in enumerate(model.config.id2label)}\n",
    "    predicted_labels = [label_map[pred.item()] for pred in predictions[0]]\n",
    "\n",
    "    return predicted_labels\n",
    "\n",
    "# Example usage\n",
    "sample_text = \"Your sentence goes here.\"\n",
    "predicted_labels = predict(model, tokenizer, sample_text)\n",
    "print(predicted_labels)\n"
   ]
  }
 ],
 "metadata": {
  "kernelspec": {
   "display_name": "pytorch_env",
   "language": "python",
   "name": "python3"
  },
  "language_info": {
   "codemirror_mode": {
    "name": "ipython",
    "version": 3
   },
   "file_extension": ".py",
   "mimetype": "text/x-python",
   "name": "python",
   "nbconvert_exporter": "python",
   "pygments_lexer": "ipython3",
   "version": "3.12.3"
  }
 },
 "nbformat": 4,
 "nbformat_minor": 2
}
